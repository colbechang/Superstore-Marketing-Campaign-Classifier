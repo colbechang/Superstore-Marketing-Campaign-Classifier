{
  "nbformat": 4,
  "nbformat_minor": 0,
  "metadata": {
    "colab": {
      "provenance": []
    },
    "kernelspec": {
      "name": "python3",
      "display_name": "Python 3"
    },
    "language_info": {
      "name": "python"
    }
  },
  "cells": [
    {
      "cell_type": "markdown",
      "source": [
        "# From scratch deep learning model"
      ],
      "metadata": {
        "id": "DKwEjN_8UI58"
      }
    },
    {
      "cell_type": "code",
      "source": [
        "import pandas as pd\n",
        "import numpy as np\n",
        "import torch\n",
        "from torch import tensor\n",
        "from fastai.data.transforms import RandomSplitter\n",
        "import torch.nn.functional as F\n",
        "import tensorflow as tf\n",
        "import matplotlib.pyplot as plt"
      ],
      "metadata": {
        "id": "KTtmYyRMEu-G"
      },
      "execution_count": 156,
      "outputs": []
    },
    {
      "cell_type": "code",
      "source": [
        "file = 'superstore_data.csv'\n",
        "df = pd.read_csv(file)"
      ],
      "metadata": {
        "id": "fASGUCJvEjcI"
      },
      "execution_count": 157,
      "outputs": []
    },
    {
      "cell_type": "code",
      "source": [
        "# Checking the amount of NaN values for each column\n",
        "df.isna().sum()"
      ],
      "metadata": {
        "colab": {
          "base_uri": "https://localhost:8080/"
        },
        "id": "GRQ2kComE4-Y",
        "outputId": "73d61f65-f35a-419a-a3f9-d9dfa7adef78"
      },
      "execution_count": 158,
      "outputs": [
        {
          "output_type": "execute_result",
          "data": {
            "text/plain": [
              "Id                      0\n",
              "Year_Birth              0\n",
              "Education               0\n",
              "Marital_Status          0\n",
              "Income                 24\n",
              "Kidhome                 0\n",
              "Teenhome                0\n",
              "Dt_Customer             0\n",
              "Recency                 0\n",
              "MntWines                0\n",
              "MntFruits               0\n",
              "MntMeatProducts         0\n",
              "MntFishProducts         0\n",
              "MntSweetProducts        0\n",
              "MntGoldProds            0\n",
              "NumDealsPurchases       0\n",
              "NumWebPurchases         0\n",
              "NumCatalogPurchases     0\n",
              "NumStorePurchases       0\n",
              "NumWebVisitsMonth       0\n",
              "Response                0\n",
              "Complain                0\n",
              "dtype: int64"
            ]
          },
          "metadata": {},
          "execution_count": 158
        }
      ]
    },
    {
      "cell_type": "code",
      "source": [
        "# Replacing all NaN values with the mode values of the dataset\n",
        "modes = df.mode().iloc[0]\n",
        "df.fillna(modes, inplace=True)\n",
        "modes"
      ],
      "metadata": {
        "colab": {
          "base_uri": "https://localhost:8080/"
        },
        "id": "8U1maWqGFDob",
        "outputId": "90d2a9e2-e9bf-409b-f19a-fc7fafce17df"
      },
      "execution_count": 159,
      "outputs": [
        {
          "output_type": "execute_result",
          "data": {
            "text/plain": [
              "Id                              0\n",
              "Year_Birth                 1976.0\n",
              "Education              Graduation\n",
              "Marital_Status            Married\n",
              "Income                     7500.0\n",
              "Kidhome                       0.0\n",
              "Teenhome                      0.0\n",
              "Dt_Customer             8/31/2012\n",
              "Recency                      56.0\n",
              "MntWines                      2.0\n",
              "MntFruits                     0.0\n",
              "MntMeatProducts               7.0\n",
              "MntFishProducts               0.0\n",
              "MntSweetProducts              0.0\n",
              "MntGoldProds                  1.0\n",
              "NumDealsPurchases             1.0\n",
              "NumWebPurchases               2.0\n",
              "NumCatalogPurchases           0.0\n",
              "NumStorePurchases             3.0\n",
              "NumWebVisitsMonth             7.0\n",
              "Response                      0.0\n",
              "Complain                      0.0\n",
              "Name: 0, dtype: object"
            ]
          },
          "metadata": {},
          "execution_count": 159
        }
      ]
    },
    {
      "cell_type": "code",
      "source": [
        "df.describe(include=(np.number))"
      ],
      "metadata": {
        "colab": {
          "base_uri": "https://localhost:8080/",
          "height": 364
        },
        "id": "IFn8xPGpFQ0v",
        "outputId": "47ad8b16-5224-422a-d386-6e4c1df3f2b3"
      },
      "execution_count": 160,
      "outputs": [
        {
          "output_type": "execute_result",
          "data": {
            "text/plain": [
              "                 Id   Year_Birth         Income      Kidhome     Teenhome  \\\n",
              "count   2240.000000  2240.000000    2240.000000  2240.000000  2240.000000   \n",
              "mean    5592.159821  1968.805804   51767.816518     0.444196     0.506250   \n",
              "std     3246.662198    11.984069   25458.285477     0.538398     0.544538   \n",
              "min        0.000000  1893.000000    1730.000000     0.000000     0.000000   \n",
              "25%     2828.250000  1959.000000   34722.000000     0.000000     0.000000   \n",
              "50%     5458.500000  1970.000000   51075.000000     0.000000     0.000000   \n",
              "75%     8427.750000  1977.000000   68289.750000     1.000000     1.000000   \n",
              "max    11191.000000  1996.000000  666666.000000     2.000000     2.000000   \n",
              "\n",
              "           Recency     MntWines    MntFruits  MntMeatProducts  \\\n",
              "count  2240.000000  2240.000000  2240.000000      2240.000000   \n",
              "mean     49.109375   303.935714    26.302232       166.950000   \n",
              "std      28.962453   336.597393    39.773434       225.715373   \n",
              "min       0.000000     0.000000     0.000000         0.000000   \n",
              "25%      24.000000    23.750000     1.000000        16.000000   \n",
              "50%      49.000000   173.500000     8.000000        67.000000   \n",
              "75%      74.000000   504.250000    33.000000       232.000000   \n",
              "max      99.000000  1493.000000   199.000000      1725.000000   \n",
              "\n",
              "       MntFishProducts  MntSweetProducts  MntGoldProds  NumDealsPurchases  \\\n",
              "count      2240.000000       2240.000000   2240.000000        2240.000000   \n",
              "mean         37.525446         27.062946     44.021875           2.325000   \n",
              "std          54.628979         41.280498     52.167439           1.932238   \n",
              "min           0.000000          0.000000      0.000000           0.000000   \n",
              "25%           3.000000          1.000000      9.000000           1.000000   \n",
              "50%          12.000000          8.000000     24.000000           2.000000   \n",
              "75%          50.000000         33.000000     56.000000           3.000000   \n",
              "max         259.000000        263.000000    362.000000          15.000000   \n",
              "\n",
              "       NumWebPurchases  NumCatalogPurchases  NumStorePurchases  \\\n",
              "count      2240.000000          2240.000000        2240.000000   \n",
              "mean          4.084821             2.662054           5.790179   \n",
              "std           2.778714             2.923101           3.250958   \n",
              "min           0.000000             0.000000           0.000000   \n",
              "25%           2.000000             0.000000           3.000000   \n",
              "50%           4.000000             2.000000           5.000000   \n",
              "75%           6.000000             4.000000           8.000000   \n",
              "max          27.000000            28.000000          13.000000   \n",
              "\n",
              "       NumWebVisitsMonth     Response     Complain  \n",
              "count        2240.000000  2240.000000  2240.000000  \n",
              "mean            5.316518     0.149107     0.009375  \n",
              "std             2.426645     0.356274     0.096391  \n",
              "min             0.000000     0.000000     0.000000  \n",
              "25%             3.000000     0.000000     0.000000  \n",
              "50%             6.000000     0.000000     0.000000  \n",
              "75%             7.000000     0.000000     0.000000  \n",
              "max            20.000000     1.000000     1.000000  "
            ],
            "text/html": [
              "\n",
              "  <div id=\"df-70a75215-eee2-4078-b065-79be2bd42864\">\n",
              "    <div class=\"colab-df-container\">\n",
              "      <div>\n",
              "<style scoped>\n",
              "    .dataframe tbody tr th:only-of-type {\n",
              "        vertical-align: middle;\n",
              "    }\n",
              "\n",
              "    .dataframe tbody tr th {\n",
              "        vertical-align: top;\n",
              "    }\n",
              "\n",
              "    .dataframe thead th {\n",
              "        text-align: right;\n",
              "    }\n",
              "</style>\n",
              "<table border=\"1\" class=\"dataframe\">\n",
              "  <thead>\n",
              "    <tr style=\"text-align: right;\">\n",
              "      <th></th>\n",
              "      <th>Id</th>\n",
              "      <th>Year_Birth</th>\n",
              "      <th>Income</th>\n",
              "      <th>Kidhome</th>\n",
              "      <th>Teenhome</th>\n",
              "      <th>Recency</th>\n",
              "      <th>MntWines</th>\n",
              "      <th>MntFruits</th>\n",
              "      <th>MntMeatProducts</th>\n",
              "      <th>MntFishProducts</th>\n",
              "      <th>MntSweetProducts</th>\n",
              "      <th>MntGoldProds</th>\n",
              "      <th>NumDealsPurchases</th>\n",
              "      <th>NumWebPurchases</th>\n",
              "      <th>NumCatalogPurchases</th>\n",
              "      <th>NumStorePurchases</th>\n",
              "      <th>NumWebVisitsMonth</th>\n",
              "      <th>Response</th>\n",
              "      <th>Complain</th>\n",
              "    </tr>\n",
              "  </thead>\n",
              "  <tbody>\n",
              "    <tr>\n",
              "      <th>count</th>\n",
              "      <td>2240.000000</td>\n",
              "      <td>2240.000000</td>\n",
              "      <td>2240.000000</td>\n",
              "      <td>2240.000000</td>\n",
              "      <td>2240.000000</td>\n",
              "      <td>2240.000000</td>\n",
              "      <td>2240.000000</td>\n",
              "      <td>2240.000000</td>\n",
              "      <td>2240.000000</td>\n",
              "      <td>2240.000000</td>\n",
              "      <td>2240.000000</td>\n",
              "      <td>2240.000000</td>\n",
              "      <td>2240.000000</td>\n",
              "      <td>2240.000000</td>\n",
              "      <td>2240.000000</td>\n",
              "      <td>2240.000000</td>\n",
              "      <td>2240.000000</td>\n",
              "      <td>2240.000000</td>\n",
              "      <td>2240.000000</td>\n",
              "    </tr>\n",
              "    <tr>\n",
              "      <th>mean</th>\n",
              "      <td>5592.159821</td>\n",
              "      <td>1968.805804</td>\n",
              "      <td>51767.816518</td>\n",
              "      <td>0.444196</td>\n",
              "      <td>0.506250</td>\n",
              "      <td>49.109375</td>\n",
              "      <td>303.935714</td>\n",
              "      <td>26.302232</td>\n",
              "      <td>166.950000</td>\n",
              "      <td>37.525446</td>\n",
              "      <td>27.062946</td>\n",
              "      <td>44.021875</td>\n",
              "      <td>2.325000</td>\n",
              "      <td>4.084821</td>\n",
              "      <td>2.662054</td>\n",
              "      <td>5.790179</td>\n",
              "      <td>5.316518</td>\n",
              "      <td>0.149107</td>\n",
              "      <td>0.009375</td>\n",
              "    </tr>\n",
              "    <tr>\n",
              "      <th>std</th>\n",
              "      <td>3246.662198</td>\n",
              "      <td>11.984069</td>\n",
              "      <td>25458.285477</td>\n",
              "      <td>0.538398</td>\n",
              "      <td>0.544538</td>\n",
              "      <td>28.962453</td>\n",
              "      <td>336.597393</td>\n",
              "      <td>39.773434</td>\n",
              "      <td>225.715373</td>\n",
              "      <td>54.628979</td>\n",
              "      <td>41.280498</td>\n",
              "      <td>52.167439</td>\n",
              "      <td>1.932238</td>\n",
              "      <td>2.778714</td>\n",
              "      <td>2.923101</td>\n",
              "      <td>3.250958</td>\n",
              "      <td>2.426645</td>\n",
              "      <td>0.356274</td>\n",
              "      <td>0.096391</td>\n",
              "    </tr>\n",
              "    <tr>\n",
              "      <th>min</th>\n",
              "      <td>0.000000</td>\n",
              "      <td>1893.000000</td>\n",
              "      <td>1730.000000</td>\n",
              "      <td>0.000000</td>\n",
              "      <td>0.000000</td>\n",
              "      <td>0.000000</td>\n",
              "      <td>0.000000</td>\n",
              "      <td>0.000000</td>\n",
              "      <td>0.000000</td>\n",
              "      <td>0.000000</td>\n",
              "      <td>0.000000</td>\n",
              "      <td>0.000000</td>\n",
              "      <td>0.000000</td>\n",
              "      <td>0.000000</td>\n",
              "      <td>0.000000</td>\n",
              "      <td>0.000000</td>\n",
              "      <td>0.000000</td>\n",
              "      <td>0.000000</td>\n",
              "      <td>0.000000</td>\n",
              "    </tr>\n",
              "    <tr>\n",
              "      <th>25%</th>\n",
              "      <td>2828.250000</td>\n",
              "      <td>1959.000000</td>\n",
              "      <td>34722.000000</td>\n",
              "      <td>0.000000</td>\n",
              "      <td>0.000000</td>\n",
              "      <td>24.000000</td>\n",
              "      <td>23.750000</td>\n",
              "      <td>1.000000</td>\n",
              "      <td>16.000000</td>\n",
              "      <td>3.000000</td>\n",
              "      <td>1.000000</td>\n",
              "      <td>9.000000</td>\n",
              "      <td>1.000000</td>\n",
              "      <td>2.000000</td>\n",
              "      <td>0.000000</td>\n",
              "      <td>3.000000</td>\n",
              "      <td>3.000000</td>\n",
              "      <td>0.000000</td>\n",
              "      <td>0.000000</td>\n",
              "    </tr>\n",
              "    <tr>\n",
              "      <th>50%</th>\n",
              "      <td>5458.500000</td>\n",
              "      <td>1970.000000</td>\n",
              "      <td>51075.000000</td>\n",
              "      <td>0.000000</td>\n",
              "      <td>0.000000</td>\n",
              "      <td>49.000000</td>\n",
              "      <td>173.500000</td>\n",
              "      <td>8.000000</td>\n",
              "      <td>67.000000</td>\n",
              "      <td>12.000000</td>\n",
              "      <td>8.000000</td>\n",
              "      <td>24.000000</td>\n",
              "      <td>2.000000</td>\n",
              "      <td>4.000000</td>\n",
              "      <td>2.000000</td>\n",
              "      <td>5.000000</td>\n",
              "      <td>6.000000</td>\n",
              "      <td>0.000000</td>\n",
              "      <td>0.000000</td>\n",
              "    </tr>\n",
              "    <tr>\n",
              "      <th>75%</th>\n",
              "      <td>8427.750000</td>\n",
              "      <td>1977.000000</td>\n",
              "      <td>68289.750000</td>\n",
              "      <td>1.000000</td>\n",
              "      <td>1.000000</td>\n",
              "      <td>74.000000</td>\n",
              "      <td>504.250000</td>\n",
              "      <td>33.000000</td>\n",
              "      <td>232.000000</td>\n",
              "      <td>50.000000</td>\n",
              "      <td>33.000000</td>\n",
              "      <td>56.000000</td>\n",
              "      <td>3.000000</td>\n",
              "      <td>6.000000</td>\n",
              "      <td>4.000000</td>\n",
              "      <td>8.000000</td>\n",
              "      <td>7.000000</td>\n",
              "      <td>0.000000</td>\n",
              "      <td>0.000000</td>\n",
              "    </tr>\n",
              "    <tr>\n",
              "      <th>max</th>\n",
              "      <td>11191.000000</td>\n",
              "      <td>1996.000000</td>\n",
              "      <td>666666.000000</td>\n",
              "      <td>2.000000</td>\n",
              "      <td>2.000000</td>\n",
              "      <td>99.000000</td>\n",
              "      <td>1493.000000</td>\n",
              "      <td>199.000000</td>\n",
              "      <td>1725.000000</td>\n",
              "      <td>259.000000</td>\n",
              "      <td>263.000000</td>\n",
              "      <td>362.000000</td>\n",
              "      <td>15.000000</td>\n",
              "      <td>27.000000</td>\n",
              "      <td>28.000000</td>\n",
              "      <td>13.000000</td>\n",
              "      <td>20.000000</td>\n",
              "      <td>1.000000</td>\n",
              "      <td>1.000000</td>\n",
              "    </tr>\n",
              "  </tbody>\n",
              "</table>\n",
              "</div>\n",
              "      <button class=\"colab-df-convert\" onclick=\"convertToInteractive('df-70a75215-eee2-4078-b065-79be2bd42864')\"\n",
              "              title=\"Convert this dataframe to an interactive table.\"\n",
              "              style=\"display:none;\">\n",
              "        \n",
              "  <svg xmlns=\"http://www.w3.org/2000/svg\" height=\"24px\"viewBox=\"0 0 24 24\"\n",
              "       width=\"24px\">\n",
              "    <path d=\"M0 0h24v24H0V0z\" fill=\"none\"/>\n",
              "    <path d=\"M18.56 5.44l.94 2.06.94-2.06 2.06-.94-2.06-.94-.94-2.06-.94 2.06-2.06.94zm-11 1L8.5 8.5l.94-2.06 2.06-.94-2.06-.94L8.5 2.5l-.94 2.06-2.06.94zm10 10l.94 2.06.94-2.06 2.06-.94-2.06-.94-.94-2.06-.94 2.06-2.06.94z\"/><path d=\"M17.41 7.96l-1.37-1.37c-.4-.4-.92-.59-1.43-.59-.52 0-1.04.2-1.43.59L10.3 9.45l-7.72 7.72c-.78.78-.78 2.05 0 2.83L4 21.41c.39.39.9.59 1.41.59.51 0 1.02-.2 1.41-.59l7.78-7.78 2.81-2.81c.8-.78.8-2.07 0-2.86zM5.41 20L4 18.59l7.72-7.72 1.47 1.35L5.41 20z\"/>\n",
              "  </svg>\n",
              "      </button>\n",
              "      \n",
              "  <style>\n",
              "    .colab-df-container {\n",
              "      display:flex;\n",
              "      flex-wrap:wrap;\n",
              "      gap: 12px;\n",
              "    }\n",
              "\n",
              "    .colab-df-convert {\n",
              "      background-color: #E8F0FE;\n",
              "      border: none;\n",
              "      border-radius: 50%;\n",
              "      cursor: pointer;\n",
              "      display: none;\n",
              "      fill: #1967D2;\n",
              "      height: 32px;\n",
              "      padding: 0 0 0 0;\n",
              "      width: 32px;\n",
              "    }\n",
              "\n",
              "    .colab-df-convert:hover {\n",
              "      background-color: #E2EBFA;\n",
              "      box-shadow: 0px 1px 2px rgba(60, 64, 67, 0.3), 0px 1px 3px 1px rgba(60, 64, 67, 0.15);\n",
              "      fill: #174EA6;\n",
              "    }\n",
              "\n",
              "    [theme=dark] .colab-df-convert {\n",
              "      background-color: #3B4455;\n",
              "      fill: #D2E3FC;\n",
              "    }\n",
              "\n",
              "    [theme=dark] .colab-df-convert:hover {\n",
              "      background-color: #434B5C;\n",
              "      box-shadow: 0px 1px 3px 1px rgba(0, 0, 0, 0.15);\n",
              "      filter: drop-shadow(0px 1px 2px rgba(0, 0, 0, 0.3));\n",
              "      fill: #FFFFFF;\n",
              "    }\n",
              "  </style>\n",
              "\n",
              "      <script>\n",
              "        const buttonEl =\n",
              "          document.querySelector('#df-70a75215-eee2-4078-b065-79be2bd42864 button.colab-df-convert');\n",
              "        buttonEl.style.display =\n",
              "          google.colab.kernel.accessAllowed ? 'block' : 'none';\n",
              "\n",
              "        async function convertToInteractive(key) {\n",
              "          const element = document.querySelector('#df-70a75215-eee2-4078-b065-79be2bd42864');\n",
              "          const dataTable =\n",
              "            await google.colab.kernel.invokeFunction('convertToInteractive',\n",
              "                                                     [key], {});\n",
              "          if (!dataTable) return;\n",
              "\n",
              "          const docLinkHtml = 'Like what you see? Visit the ' +\n",
              "            '<a target=\"_blank\" href=https://colab.research.google.com/notebooks/data_table.ipynb>data table notebook</a>'\n",
              "            + ' to learn more about interactive tables.';\n",
              "          element.innerHTML = '';\n",
              "          dataTable['output_type'] = 'display_data';\n",
              "          await google.colab.output.renderOutput(dataTable, element);\n",
              "          const docLink = document.createElement('div');\n",
              "          docLink.innerHTML = docLinkHtml;\n",
              "          element.appendChild(docLink);\n",
              "        }\n",
              "      </script>\n",
              "    </div>\n",
              "  </div>\n",
              "  "
            ]
          },
          "metadata": {},
          "execution_count": 160
        }
      ]
    },
    {
      "cell_type": "code",
      "source": [
        "# Scaling the variables that have long tail distributions to have more even distributions \n",
        "# Prevents larger values from having more of an influence than smaller values\n",
        "df['Income'] = np.log(df['Income'] + 1)\n",
        "df['MntWines'] = np.log(df['MntWines'] + 1)\n",
        "df['MntFruits'] = np.log(df['MntFruits'] + 1)\n",
        "df['MntMeatProducts'] = np.log(df['MntMeatProducts'] + 1)\n",
        "df['MntFishProducts'] = np.log(df['MntFishProducts'] + 1)\n",
        "df['MntSweetProducts'] = np.log(df['MntSweetProducts'] + 1)\n",
        "df['MntGoldProds'] = np.log(df['MntGoldProds'] + 1)\n",
        "df['NumDealsPurchases'] = np.log(df['NumDealsPurchases'] + 1)"
      ],
      "metadata": {
        "id": "LjfhKkN5FWtE"
      },
      "execution_count": 161,
      "outputs": []
    },
    {
      "cell_type": "code",
      "source": [
        "# Creating a PyTorch tensor for the dependent variable\n",
        "t_dep = tensor(df.Response)\n",
        "\n",
        "\n",
        "indep_cols = ['Year_Birth', 'Income', 'Kidhome', 'Teenhome', 'Recency', 'MntWines', 'MntFruits', 'MntMeatProducts', 'MntFishProducts', 'MntSweetProducts', 'MntGoldProds', 'NumDealsPurchases', \n",
        "              'NumWebPurchases', 'NumCatalogPurchases', 'NumStorePurchases', 'NumWebVisitsMonth', 'Complain']\n",
        "# Creating a PyTorch tensor for the independent variables\n",
        "t_indep = tensor(df[indep_cols].values, dtype=torch.float)"
      ],
      "metadata": {
        "id": "bbhnCywPFloT"
      },
      "execution_count": 162,
      "outputs": []
    },
    {
      "cell_type": "code",
      "source": [
        "# The amount of independent variables\n",
        "n_coeff = t_indep.shape[1]"
      ],
      "metadata": {
        "id": "RGphiRFdF2rn"
      },
      "execution_count": 163,
      "outputs": []
    },
    {
      "cell_type": "code",
      "source": [
        "# Scaling the independent variables to range from 0 to 1 for consistency \n",
        "vals, indices = t_indep.max(dim=0)\n",
        "t_indep = t_indep / vals"
      ],
      "metadata": {
        "id": "cyDJhZpuHICo"
      },
      "execution_count": 164,
      "outputs": []
    },
    {
      "cell_type": "code",
      "source": [
        "# Splitting the data into training and validation sets\n",
        "# Using seed 42 for reproducibility \n",
        "trn_split, val_split=RandomSplitter(seed=42)(df)\n",
        "\n",
        "train_indep, val_indep = t_indep[trn_split], t_indep[val_split]\n",
        "train_dep, val_dep = t_dep[trn_split], t_dep[val_split]\n",
        "len(train_indep), len(val_indep)"
      ],
      "metadata": {
        "colab": {
          "base_uri": "https://localhost:8080/"
        },
        "id": "eiPBLYhJJrwD",
        "outputId": "6333248a-d12a-46af-f85f-7905c42e25d7"
      },
      "execution_count": 165,
      "outputs": [
        {
          "output_type": "execute_result",
          "data": {
            "text/plain": [
              "(1792, 448)"
            ]
          },
          "metadata": {},
          "execution_count": 165
        }
      ]
    },
    {
      "cell_type": "code",
      "source": [
        "# Initializes the coefficients\n",
        "def init_coeffs():\n",
        "  # Creates a network of 5 layers: 1 input layer, 3 hidden layers, and 1 output layer\n",
        "  hiddens = [64,64,64]\n",
        "  sizes = [n_coeff] + hiddens + [1]\n",
        "  n = len(sizes)\n",
        "  # Creates random coefficients for each layer and random constant terms\n",
        "  layers = [(torch.rand(sizes[i], sizes[i+1])-0.2)/sizes[i+1]*4 for i in range(n-1)]\n",
        "  consts = [(torch.rand(1)[0]-0.5)*0.1 for i in range(n-1)]\n",
        "  # Returns the layers with constant terms and gradient attributes added\n",
        "  for l in layers + consts:\n",
        "    l.requires_grad_()\n",
        "  return layers, consts"
      ],
      "metadata": {
        "id": "W-T43YQjZI1i"
      },
      "execution_count": 166,
      "outputs": []
    },
    {
      "cell_type": "code",
      "source": [
        "# Calculates the predictions\n",
        "def calc_preds(coeffs, indeps):\n",
        "  # Takes in the coefficients which is a tuple of the layer coefficients and constants\n",
        "  layers, consts = coeffs\n",
        "  n = len(layers)\n",
        "  res = indeps\n",
        "  # Applying a matrix multiplication of the layer coefficients and the values of the independent variables\n",
        "  for i, l in enumerate(layers):\n",
        "    res = res@l + consts[i]\n",
        "    # Applies activation functions to each layer \n",
        "    if i != n-1:\n",
        "      res = F.relu(res)\n",
        "  return torch.sigmoid(res)"
      ],
      "metadata": {
        "id": "CyhzG-c6Zsj_"
      },
      "execution_count": 167,
      "outputs": []
    },
    {
      "cell_type": "code",
      "source": [
        "# Calculates the loss using mean average error \n",
        "def calc_loss(coeffs, indeps, deps): return torch.abs(calc_preds(coeffs, indeps)-deps).mean()"
      ],
      "metadata": {
        "id": "C-WY_Zt7RUfI"
      },
      "execution_count": 168,
      "outputs": []
    },
    {
      "cell_type": "code",
      "source": [
        "# Updates the coefficients by adding the gradients by the learning rate \n",
        "def update_coeffs(coeffs, lr):\n",
        "  layers, consts = coeffs\n",
        "  for layer in layers+consts:\n",
        "    layer.sub_(layer.grad * lr)\n",
        "    layer.grad.zero_()"
      ],
      "metadata": {
        "id": "Nw349m8qZ_YM"
      },
      "execution_count": 169,
      "outputs": []
    },
    {
      "cell_type": "code",
      "source": [
        "# Calculates the average accuracy of the predictions\n",
        "# If the prediction was >0.5, it means the response was yes and if it was <0.5, then the response was no\n",
        "def acc(coeffs):\n",
        "  return (val_dep.bool()==(calc_preds(coeffs, val_indep)>0.5)).float().mean()"
      ],
      "metadata": {
        "id": "Qyv-3jrbQ9Wo"
      },
      "execution_count": 170,
      "outputs": []
    },
    {
      "cell_type": "code",
      "source": [
        "# Runs one epoch of training\n",
        "# Calculates the loss, adjusts coefficients, and returns the loss\n",
        "accuracies = []\n",
        "def one_epoch(coeffs, lr):\n",
        "  \n",
        "  loss = calc_loss(coeffs, train_indep, train_dep)\n",
        "  loss.backward()\n",
        "  with torch.no_grad(): update_coeffs(coeffs, lr)\n",
        "\n",
        "  accuracy = float(acc(coeffs).detach().numpy())\n",
        "  accuracies.append(accuracy)\n",
        "  \n",
        "  print(f\"{loss}\", end=\";\")\n",
        "  print(lr)\n",
        "  return float(loss.detach().numpy())"
      ],
      "metadata": {
        "id": "7Jd-YuubQF-g"
      },
      "execution_count": 171,
      "outputs": []
    },
    {
      "cell_type": "code",
      "source": [
        "losses = []\n",
        "\n",
        "# Training loop that takes in the number of epochs and the default learning rate\n",
        "# As each epoch runs, the learning rate decreases by 15% if the loss doesn't decrease by at least 0.01\n",
        "def train_model(epochs=30, lr=0.01):\n",
        "  torch.manual_seed(442)\n",
        "  coeffs = init_coeffs()\n",
        "  for i in range(epochs):\n",
        "    loss = one_epoch(coeffs, lr=lr)\n",
        "    if losses:\n",
        "      if losses[-1] - loss < 0.01:\n",
        "        lr -= lr*.15\n",
        "    losses.append(loss)\n",
        "  return coeffs"
      ],
      "metadata": {
        "id": "MZ4x3x9RQGvs"
      },
      "execution_count": 172,
      "outputs": []
    },
    {
      "cell_type": "code",
      "source": [
        "coeffs = train_model(lr=30)"
      ],
      "metadata": {
        "colab": {
          "base_uri": "https://localhost:8080/"
        },
        "id": "CKvCiY6baLx8",
        "outputId": "e1db3ac6-f050-4300-9a7a-eaa329c1ed78"
      },
      "execution_count": 173,
      "outputs": [
        {
          "output_type": "stream",
          "name": "stdout",
          "text": [
            "0.8498857617378235;30\n",
            "0.8498682379722595;30\n",
            "0.5746482610702515;25.5\n",
            "0.16476848721504211;25.5\n",
            "0.16034264862537384;25.5\n",
            "0.15804965794086456;21.675\n",
            "0.1568199098110199;18.423750000000002\n",
            "0.1560535877943039;15.660187500000001\n",
            "0.15553390979766846;13.311159375\n",
            "0.15516187250614166;11.31448546875\n",
            "0.1548852175474167;9.6173126484375\n",
            "0.15467387437820435;8.174715751171874\n",
            "0.15450897812843323;6.9485083884960925\n",
            "0.1543782502412796;5.906232130221679\n",
            "0.15427334606647491;5.020297310688427\n",
            "0.15418829023838043;4.2672527140851635\n",
            "0.15411876142024994;3.627164806972389\n",
            "0.15406164526939392;3.0830900859265307\n",
            "0.15401431918144226;2.6206265730375513\n",
            "0.15397509932518005;2.2275325870819187\n",
            "0.15394236147403717;1.8934026990196309\n",
            "0.1539149433374405;1.6093922941666863\n",
            "0.15389201045036316;1.3679834500416834\n",
            "0.15387269854545593;1.1627859325354308\n",
            "0.15385647118091583;0.9883680426551162\n",
            "0.15384282171726227;0.8401128362568488\n",
            "0.15383124351501465;0.7140959108183216\n",
            "0.1538214534521103;0.6069815241955734\n",
            "0.1538132280111313;0.5159342955662374\n",
            "0.15380622446537018;0.43854415123130175\n"
          ]
        }
      ]
    },
    {
      "cell_type": "code",
      "source": [
        "losses"
      ],
      "metadata": {
        "colab": {
          "base_uri": "https://localhost:8080/"
        },
        "id": "ACrikLXnxgDz",
        "outputId": "4ef6ba3a-fe7d-4372-fbee-d27a1797645d"
      },
      "execution_count": 174,
      "outputs": [
        {
          "output_type": "execute_result",
          "data": {
            "text/plain": [
              "[0.8498857617378235,\n",
              " 0.8498682379722595,\n",
              " 0.5746482610702515,\n",
              " 0.16476848721504211,\n",
              " 0.16034264862537384,\n",
              " 0.15804965794086456,\n",
              " 0.1568199098110199,\n",
              " 0.1560535877943039,\n",
              " 0.15553390979766846,\n",
              " 0.15516187250614166,\n",
              " 0.1548852175474167,\n",
              " 0.15467387437820435,\n",
              " 0.15450897812843323,\n",
              " 0.1543782502412796,\n",
              " 0.15427334606647491,\n",
              " 0.15418829023838043,\n",
              " 0.15411876142024994,\n",
              " 0.15406164526939392,\n",
              " 0.15401431918144226,\n",
              " 0.15397509932518005,\n",
              " 0.15394236147403717,\n",
              " 0.1539149433374405,\n",
              " 0.15389201045036316,\n",
              " 0.15387269854545593,\n",
              " 0.15385647118091583,\n",
              " 0.15384282171726227,\n",
              " 0.15383124351501465,\n",
              " 0.1538214534521103,\n",
              " 0.1538132280111313,\n",
              " 0.15380622446537018]"
            ]
          },
          "metadata": {},
          "execution_count": 174
        }
      ]
    },
    {
      "cell_type": "code",
      "source": [
        "accuracies"
      ],
      "metadata": {
        "colab": {
          "base_uri": "https://localhost:8080/"
        },
        "id": "X_jvmji1ag4c",
        "outputId": "c4476288-e8fb-444c-de99-4b40b29ba75b"
      },
      "execution_count": 175,
      "outputs": [
        {
          "output_type": "execute_result",
          "data": {
            "text/plain": [
              "[0.1450892835855484,\n",
              " 0.1450892835855484,\n",
              " 0.8549107313156128,\n",
              " 0.8549107313156128,\n",
              " 0.8549107313156128,\n",
              " 0.8549107313156128,\n",
              " 0.8549107313156128,\n",
              " 0.8549107313156128,\n",
              " 0.8549107313156128,\n",
              " 0.8549107313156128,\n",
              " 0.8549107313156128,\n",
              " 0.8549107313156128,\n",
              " 0.8549107313156128,\n",
              " 0.8549107313156128,\n",
              " 0.8549107313156128,\n",
              " 0.8549107313156128,\n",
              " 0.8549107313156128,\n",
              " 0.8549107313156128,\n",
              " 0.8549107313156128,\n",
              " 0.8549107313156128,\n",
              " 0.8549107313156128,\n",
              " 0.8549107313156128,\n",
              " 0.8549107313156128,\n",
              " 0.8549107313156128,\n",
              " 0.8549107313156128,\n",
              " 0.8549107313156128,\n",
              " 0.8549107313156128,\n",
              " 0.8549107313156128,\n",
              " 0.8549107313156128,\n",
              " 0.8549107313156128]"
            ]
          },
          "metadata": {},
          "execution_count": 175
        }
      ]
    },
    {
      "cell_type": "code",
      "source": [
        "acc(coeffs)"
      ],
      "metadata": {
        "colab": {
          "base_uri": "https://localhost:8080/"
        },
        "id": "j_rzBxZAaVGz",
        "outputId": "8161dcbd-e36e-4216-e81e-0e73e7cd44ff"
      },
      "execution_count": 176,
      "outputs": [
        {
          "output_type": "execute_result",
          "data": {
            "text/plain": [
              "tensor(0.8549)"
            ]
          },
          "metadata": {},
          "execution_count": 176
        }
      ]
    },
    {
      "cell_type": "code",
      "source": [
        "# Setting up matplotlib graph settings\n",
        "plt.style.use('fivethirtyeight')\n",
        "plt.rc('figure', autolayout=True)\n",
        "plt.rc('axes', labelweight='bold', labelsize='large',\n",
        "       titleweight='bold', titlesize=18, titlepad=10)\n",
        "plt.rc('animation', html='html5')"
      ],
      "metadata": {
        "id": "eBRTDblYddfP"
      },
      "execution_count": 177,
      "outputs": []
    },
    {
      "cell_type": "code",
      "source": [
        "plt.plot(list(range(len(losses))), losses)\n",
        "plt.xlabel(\"Epochs\")\n",
        "plt.ylabel(\"Loss\")\n",
        "plt.title(\"Loss Over Each Epoch\")\n",
        "plt.show()\n",
        "\n",
        "plt.plot(list(range(len(accuracies))), accuracies)\n",
        "plt.xlabel(\"Epochs\")\n",
        "plt.ylabel(\"Accuracy\")\n",
        "plt.title(\"Accuracy Over Each Epoch\")\n",
        "plt.show()"
      ],
      "metadata": {
        "colab": {
          "base_uri": "https://localhost:8080/",
          "height": 561
        },
        "id": "AZvy7djfdj0c",
        "outputId": "29770814-fc71-4184-910d-9bfacf5def4f"
      },
      "execution_count": 178,
      "outputs": [
        {
          "output_type": "display_data",
          "data": {
            "text/plain": [
              "<Figure size 432x288 with 1 Axes>"
            ],
            "image/png": "[encoded data removed]"
          },
          "metadata": {}
        },
        {
          "output_type": "display_data",
          "data": {
            "text/plain": [
              "<Figure size 432x288 with 1 Axes>"
            ],
            "image/png": "[encoded data removed]"
          },
          "metadata": {}
        }
      ]
    },
    {
      "cell_type": "markdown",
      "source": [
        "# Results\n",
        "After testing multiple different learning rates, layer amounts, and optimization methods, the model seemed to max out at about 85% accuracy with a loss of 0.15. The stagnation in accuracy seems to be caused by the manual testing of parameters, rather than having pre-built optimizers adjust them accordingly. "
      ],
      "metadata": {
        "id": "_jlOUUH_XDb9"
      }
    },
    {
      "cell_type": "markdown",
      "source": [
        "# Model made from pre-built architectures"
      ],
      "metadata": {
        "id": "kb1g2O2hOCw6"
      }
    },
    {
      "cell_type": "code",
      "source": [
        "from tensorflow import keras\n",
        "from tensorflow.keras import layers\n",
        "from sklearn.model_selection import train_test_split\n",
        "from sklearn.preprocessing import StandardScaler, OneHotEncoder\n",
        "from sklearn.impute import SimpleImputer\n",
        "from sklearn.pipeline import make_pipeline\n",
        "from sklearn.compose import make_column_transformer\n"
      ],
      "metadata": {
        "id": "QrIoNVk5Pdwd"
      },
      "execution_count": 179,
      "outputs": []
    },
    {
      "cell_type": "code",
      "source": [
        "X_train, X_test, y_train, y_test = train_test_split(df[indep_cols], df['Response'], stratify=df['Response'], train_size=0.75)\n",
        "\n",
        "transformer_num = make_pipeline(\n",
        "    StandardScaler(),\n",
        ")\n",
        "\n",
        "preprocessor = make_column_transformer(\n",
        "    (transformer_num, indep_cols),\n",
        ")\n",
        "\n",
        "# Standardizing the independent variables\n",
        "X_train = preprocessor.fit_transform(X_train)\n",
        "X_test = preprocessor.transform(X_test)\n",
        "\n",
        "# Initializing a sequential model with 4 Dense layers\n",
        "model = keras.Sequential([\n",
        "    layers.Dense(64, activation='relu', input_shape=[n_coeff]),\n",
        "    layers.Dense(64, activation='relu'), \n",
        "    layers.Dense(64, activation='relu'),\n",
        "    layers.Dense(1, activation='sigmoid')\n",
        "])\n",
        "\n",
        "model.summary()"
      ],
      "metadata": {
        "id": "8gOslzQc9qzJ",
        "colab": {
          "base_uri": "https://localhost:8080/"
        },
        "outputId": "f27c8b13-09f7-44a5-988b-e4d33bdc12fb"
      },
      "execution_count": 180,
      "outputs": [
        {
          "output_type": "stream",
          "name": "stdout",
          "text": [
            "Model: \"sequential\"\n",
            "_________________________________________________________________\n",
            " Layer (type)                Output Shape              Param #   \n",
            "=================================================================\n",
            " dense (Dense)               (None, 64)                1152      \n",
            "                                                                 \n",
            " dense_1 (Dense)             (None, 64)                4160      \n",
            "                                                                 \n",
            " dense_2 (Dense)             (None, 64)                4160      \n",
            "                                                                 \n",
            " dense_3 (Dense)             (None, 1)                 65        \n",
            "                                                                 \n",
            "=================================================================\n",
            "Total params: 9,537\n",
            "Trainable params: 9,537\n",
            "Non-trainable params: 0\n",
            "_________________________________________________________________\n"
          ]
        }
      ]
    },
    {
      "cell_type": "code",
      "source": [
        "# Specifying how to optimize the model and how to calculate the loss and accuracy\n",
        "model.compile(\n",
        "    optimizer='adam',\n",
        "    loss='binary_crossentropy',\n",
        "    metrics=['binary_accuracy']\n",
        ")"
      ],
      "metadata": {
        "id": "W84EDeF39_Z1"
      },
      "execution_count": 181,
      "outputs": []
    },
    {
      "cell_type": "code",
      "source": [
        "# Adding an early stopping function that stops the model if there hasn't been a 0.001 decrease in the loss after 5 epochs\n",
        "early_stopping = keras.callbacks.EarlyStopping(\n",
        "    patience=5,\n",
        "    min_delta=0.001,\n",
        "    restore_best_weights=True\n",
        ")\n",
        "\n",
        "# Running the model with 1000 epochs and batch sizes of 512\n",
        "history = model.fit(\n",
        "    X_train, y_train,\n",
        "    validation_data=(X_train, y_train),\n",
        "    batch_size=512,\n",
        "    epochs=1000,\n",
        "    callbacks=[early_stopping],\n",
        "    verbose = 0\n",
        ")"
      ],
      "metadata": {
        "id": "QnVyy_3U-Jk8"
      },
      "execution_count": 182,
      "outputs": []
    },
    {
      "cell_type": "code",
      "source": [
        "history_df = pd.DataFrame(history.history)\n",
        "history_df.loc[:, ['loss', 'val_loss']].plot(xlabel=\"Epochs\", ylabel=\"Loss\", title=\"Loss Over Each Epoch\")\n",
        "history_df.loc[:, ['binary_accuracy', 'val_binary_accuracy']].plot(xlabel=\"Epochs\", ylabel=\"Accuracy\", title=\"Accuracy Over Each Epoch\")\n",
        "\n",
        "print(history_df[['binary_accuracy', 'val_binary_accuracy']].max())\n",
        "print(history_df[['loss', 'val_loss']].min())"
      ],
      "metadata": {
        "colab": {
          "base_uri": "https://localhost:8080/",
          "height": 668
        },
        "id": "BKamD_gTBGfa",
        "outputId": "3bd3f76f-6cbb-4679-f68e-a83774bcc66a"
      },
      "execution_count": 184,
      "outputs": [
        {
          "output_type": "stream",
          "name": "stdout",
          "text": [
            "binary_accuracy        0.988095\n",
            "val_binary_accuracy    0.989881\n",
            "dtype: float64\n",
            "loss        0.050194\n",
            "val_loss    0.049270\n",
            "dtype: float64\n"
          ]
        },
        {
          "output_type": "display_data",
          "data": {
            "text/plain": [
              "<Figure size 432x288 with 1 Axes>"
            ],
            "image/png": "[encoded data removed]"
          },
          "metadata": {}
        },
        {
          "output_type": "display_data",
          "data": {
            "text/plain": [
              "<Figure size 432x288 with 1 Axes>"
            ],
            "image/png": "[encoded data removed]"
          },
          "metadata": {}
        }
      ]
    },
    {
      "cell_type": "markdown",
      "source": [
        "# Results\n",
        "After running both models, it was clear that the model with pre-built architectures performed better. It achieved a 99% accuracy, compared to the other model which achieved an 85% accuracy. I believe this was because a lot of the parameter testing and optimizing was done manually on the from-scratch model, compared to the other model which used a pre-built optimizer that could adjust values accordingly. \n",
        "\n",
        "In order to try and mimic the results of the pre-built model, I copied parts of the model architecture and applied it to the from-scratch model. One of the parts was the layer architecture, in the pre-built model I had 4 layers with 64 units (neurons), so I did the same in the from-scratch model. Another thing I added was the learning rate adjuster, which wasn't in the pre-built model, however I decided that it would be more useful to have that than to have an early callback function since the loss stayed stagnant most of the time. \n",
        "\n",
        "Having done all this, the accuracy was the same which leads me to believe that my hypothesis of the pre-built optimizer being the biggest influence on results was correct. "
      ],
      "metadata": {
        "id": "Z3QY6Nr-ifqI"
      }
    }
  ]
}